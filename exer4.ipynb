{
 "cells": [
  {
   "cell_type": "code",
   "execution_count": 1,
   "metadata": {
    "collapsed": true
   },
   "outputs": [],
   "source": [
    "import pandas as pd"
   ]
  },
  {
   "cell_type": "code",
   "execution_count": 5,
   "metadata": {
    "collapsed": false
   },
   "outputs": [
    {
     "data": {
      "text/plain": [
       "[('City', ['Philadelphia', 'Boston', 'Baltimore', 'Orlando']),\n",
       " ('State', ['PA', 'MA', 'MD', 'FD']),\n",
       " ('Population', [1.5, 0.6, 0.6, 2.35]),\n",
       " ('Visitors', [41, 19, 24, 66])]"
      ]
     },
     "execution_count": 5,
     "metadata": {},
     "output_type": "execute_result"
    }
   ],
   "source": [
    "cities = ['Philadelphia', 'Boston', 'Baltimore', 'Orlando']\n",
    "states = ['PA', 'MA', 'MD', 'FD']\n",
    "population = [1.5,0.6, 0.6, 2.35]\n",
    "visitors = [41, 19, 24, 66]\n",
    "list_labels = [\"City\", \"State\", \"Population\", \"Visitors\"]\n",
    "list_cols = [cities, states, population, visitors]\n",
    "zipped = list(zip(list_labels, list_cols))\n",
    "zipped"
   ]
  },
  {
   "cell_type": "code",
   "execution_count": 6,
   "metadata": {
    "collapsed": false
   },
   "outputs": [
    {
     "data": {
      "text/plain": [
       "{'City': ['Philadelphia', 'Boston', 'Baltimore', 'Orlando'],\n",
       " 'Population': [1.5, 0.6, 0.6, 2.35],\n",
       " 'State': ['PA', 'MA', 'MD', 'FD'],\n",
       " 'Visitors': [41, 19, 24, 66]}"
      ]
     },
     "execution_count": 6,
     "metadata": {},
     "output_type": "execute_result"
    }
   ],
   "source": [
    "data = dict(zipped)\n",
    "data"
   ]
  },
  {
   "cell_type": "code",
   "execution_count": 7,
   "metadata": {
    "collapsed": false
   },
   "outputs": [
    {
     "data": {
      "text/html": [
       "<div>\n",
       "<table border=\"1\" class=\"dataframe\">\n",
       "  <thead>\n",
       "    <tr style=\"text-align: right;\">\n",
       "      <th></th>\n",
       "      <th>City</th>\n",
       "      <th>Population</th>\n",
       "      <th>State</th>\n",
       "      <th>Visitors</th>\n",
       "    </tr>\n",
       "  </thead>\n",
       "  <tbody>\n",
       "    <tr>\n",
       "      <th>0</th>\n",
       "      <td>Philadelphia</td>\n",
       "      <td>1.50</td>\n",
       "      <td>PA</td>\n",
       "      <td>41</td>\n",
       "    </tr>\n",
       "    <tr>\n",
       "      <th>1</th>\n",
       "      <td>Boston</td>\n",
       "      <td>0.60</td>\n",
       "      <td>MA</td>\n",
       "      <td>19</td>\n",
       "    </tr>\n",
       "    <tr>\n",
       "      <th>2</th>\n",
       "      <td>Baltimore</td>\n",
       "      <td>0.60</td>\n",
       "      <td>MD</td>\n",
       "      <td>24</td>\n",
       "    </tr>\n",
       "    <tr>\n",
       "      <th>3</th>\n",
       "      <td>Orlando</td>\n",
       "      <td>2.35</td>\n",
       "      <td>FD</td>\n",
       "      <td>66</td>\n",
       "    </tr>\n",
       "  </tbody>\n",
       "</table>\n",
       "</div>"
      ],
      "text/plain": [
       "           City  Population State  Visitors\n",
       "0  Philadelphia        1.50    PA        41\n",
       "1        Boston        0.60    MA        19\n",
       "2     Baltimore        0.60    MD        24\n",
       "3       Orlando        2.35    FD        66"
      ]
     },
     "execution_count": 7,
     "metadata": {},
     "output_type": "execute_result"
    }
   ],
   "source": [
    "df = pd.DataFrame(data)\n",
    "df"
   ]
  },
  {
   "cell_type": "code",
   "execution_count": 8,
   "metadata": {
    "collapsed": false
   },
   "outputs": [
    {
     "data": {
      "text/html": [
       "<div>\n",
       "<table border=\"1\" class=\"dataframe\">\n",
       "  <thead>\n",
       "    <tr style=\"text-align: right;\">\n",
       "      <th></th>\n",
       "      <th>City</th>\n",
       "      <th>Population</th>\n",
       "      <th>State</th>\n",
       "      <th>Visitors</th>\n",
       "    </tr>\n",
       "    <tr>\n",
       "      <th>State</th>\n",
       "      <th></th>\n",
       "      <th></th>\n",
       "      <th></th>\n",
       "      <th></th>\n",
       "    </tr>\n",
       "  </thead>\n",
       "  <tbody>\n",
       "    <tr>\n",
       "      <th>PA</th>\n",
       "      <td>Philadelphia</td>\n",
       "      <td>1.50</td>\n",
       "      <td>PA</td>\n",
       "      <td>41</td>\n",
       "    </tr>\n",
       "    <tr>\n",
       "      <th>MA</th>\n",
       "      <td>Boston</td>\n",
       "      <td>0.60</td>\n",
       "      <td>MA</td>\n",
       "      <td>19</td>\n",
       "    </tr>\n",
       "    <tr>\n",
       "      <th>MD</th>\n",
       "      <td>Baltimore</td>\n",
       "      <td>0.60</td>\n",
       "      <td>MD</td>\n",
       "      <td>24</td>\n",
       "    </tr>\n",
       "    <tr>\n",
       "      <th>FD</th>\n",
       "      <td>Orlando</td>\n",
       "      <td>2.35</td>\n",
       "      <td>FD</td>\n",
       "      <td>66</td>\n",
       "    </tr>\n",
       "  </tbody>\n",
       "</table>\n",
       "</div>"
      ],
      "text/plain": [
       "               City  Population State  Visitors\n",
       "State                                          \n",
       "PA     Philadelphia        1.50    PA        41\n",
       "MA           Boston        0.60    MA        19\n",
       "MD        Baltimore        0.60    MD        24\n",
       "FD          Orlando        2.35    FD        66"
      ]
     },
     "execution_count": 8,
     "metadata": {},
     "output_type": "execute_result"
    }
   ],
   "source": [
    "df.index = df['State']\n",
    "df"
   ]
  },
  {
   "cell_type": "code",
   "execution_count": 9,
   "metadata": {
    "collapsed": false
   },
   "outputs": [
    {
     "name": "stdout",
     "output_type": "stream",
     "text": [
      "('st', 'PA')\n",
      "('row', City          Philadelphia\n",
      "Population             1.5\n",
      "State                   PA\n",
      "Visitors                41\n",
      "Name: PA, dtype: object)\n",
      "('st', 'MA')\n",
      "('row', City          Boston\n",
      "Population       0.6\n",
      "State             MA\n",
      "Visitors          19\n",
      "Name: MA, dtype: object)\n",
      "('st', 'MD')\n",
      "('row', City          Baltimore\n",
      "Population          0.6\n",
      "State                MD\n",
      "Visitors             24\n",
      "Name: MD, dtype: object)\n",
      "('st', 'FD')\n",
      "('row', City          Orlando\n",
      "Population       2.35\n",
      "State              FD\n",
      "Visitors           66\n",
      "Name: FD, dtype: object)\n"
     ]
    }
   ],
   "source": [
    "for st, row in df.iterrows():\n",
    "    print(\"st\", st)\n",
    "    print(\"row\", row)"
   ]
  },
  {
   "cell_type": "code",
   "execution_count": 10,
   "metadata": {
    "collapsed": false
   },
   "outputs": [
    {
     "name": "stdout",
     "output_type": "stream",
     "text": [
      "PA: Philadelphia\n",
      "MA: Boston\n",
      "MD: Baltimore\n",
      "FD: Orlando\n"
     ]
    }
   ],
   "source": [
    "for st, row in df.iterrows():\n",
    "    print (st + \": \" + row[\"City\"])"
   ]
  },
  {
   "cell_type": "code",
   "execution_count": 11,
   "metadata": {
    "collapsed": false
   },
   "outputs": [
    {
     "data": {
      "text/html": [
       "<div>\n",
       "<table border=\"1\" class=\"dataframe\">\n",
       "  <thead>\n",
       "    <tr style=\"text-align: right;\">\n",
       "      <th></th>\n",
       "      <th>City</th>\n",
       "      <th>Population</th>\n",
       "      <th>State</th>\n",
       "      <th>Visitors</th>\n",
       "      <th>city_length</th>\n",
       "    </tr>\n",
       "    <tr>\n",
       "      <th>State</th>\n",
       "      <th></th>\n",
       "      <th></th>\n",
       "      <th></th>\n",
       "      <th></th>\n",
       "      <th></th>\n",
       "    </tr>\n",
       "  </thead>\n",
       "  <tbody>\n",
       "    <tr>\n",
       "      <th>PA</th>\n",
       "      <td>Philadelphia</td>\n",
       "      <td>1.50</td>\n",
       "      <td>PA</td>\n",
       "      <td>41</td>\n",
       "      <td>12.0</td>\n",
       "    </tr>\n",
       "    <tr>\n",
       "      <th>MA</th>\n",
       "      <td>Boston</td>\n",
       "      <td>0.60</td>\n",
       "      <td>MA</td>\n",
       "      <td>19</td>\n",
       "      <td>6.0</td>\n",
       "    </tr>\n",
       "    <tr>\n",
       "      <th>MD</th>\n",
       "      <td>Baltimore</td>\n",
       "      <td>0.60</td>\n",
       "      <td>MD</td>\n",
       "      <td>24</td>\n",
       "      <td>9.0</td>\n",
       "    </tr>\n",
       "    <tr>\n",
       "      <th>FD</th>\n",
       "      <td>Orlando</td>\n",
       "      <td>2.35</td>\n",
       "      <td>FD</td>\n",
       "      <td>66</td>\n",
       "      <td>7.0</td>\n",
       "    </tr>\n",
       "  </tbody>\n",
       "</table>\n",
       "</div>"
      ],
      "text/plain": [
       "               City  Population State  Visitors  city_length\n",
       "State                                                       \n",
       "PA     Philadelphia        1.50    PA        41         12.0\n",
       "MA           Boston        0.60    MA        19          6.0\n",
       "MD        Baltimore        0.60    MD        24          9.0\n",
       "FD          Orlando        2.35    FD        66          7.0"
      ]
     },
     "execution_count": 11,
     "metadata": {},
     "output_type": "execute_result"
    }
   ],
   "source": [
    "for st, row in df.iterrows():\n",
    "    df.loc[st, \"city_length\"] = len(row['City'])\n",
    "df"
   ]
  },
  {
   "cell_type": "code",
   "execution_count": 12,
   "metadata": {
    "collapsed": true
   },
   "outputs": [],
   "source": [
    "df[\"new_city_length\"] = df[\"City\"].apply(len)"
   ]
  },
  {
   "cell_type": "code",
   "execution_count": 13,
   "metadata": {
    "collapsed": false
   },
   "outputs": [
    {
     "data": {
      "text/html": [
       "<div>\n",
       "<table border=\"1\" class=\"dataframe\">\n",
       "  <thead>\n",
       "    <tr style=\"text-align: right;\">\n",
       "      <th></th>\n",
       "      <th>City</th>\n",
       "      <th>Population</th>\n",
       "      <th>State</th>\n",
       "      <th>Visitors</th>\n",
       "      <th>city_length</th>\n",
       "      <th>new_city_length</th>\n",
       "    </tr>\n",
       "    <tr>\n",
       "      <th>State</th>\n",
       "      <th></th>\n",
       "      <th></th>\n",
       "      <th></th>\n",
       "      <th></th>\n",
       "      <th></th>\n",
       "      <th></th>\n",
       "    </tr>\n",
       "  </thead>\n",
       "  <tbody>\n",
       "    <tr>\n",
       "      <th>PA</th>\n",
       "      <td>Philadelphia</td>\n",
       "      <td>1.50</td>\n",
       "      <td>PA</td>\n",
       "      <td>41</td>\n",
       "      <td>12.0</td>\n",
       "      <td>12</td>\n",
       "    </tr>\n",
       "    <tr>\n",
       "      <th>MA</th>\n",
       "      <td>Boston</td>\n",
       "      <td>0.60</td>\n",
       "      <td>MA</td>\n",
       "      <td>19</td>\n",
       "      <td>6.0</td>\n",
       "      <td>6</td>\n",
       "    </tr>\n",
       "    <tr>\n",
       "      <th>MD</th>\n",
       "      <td>Baltimore</td>\n",
       "      <td>0.60</td>\n",
       "      <td>MD</td>\n",
       "      <td>24</td>\n",
       "      <td>9.0</td>\n",
       "      <td>9</td>\n",
       "    </tr>\n",
       "    <tr>\n",
       "      <th>FD</th>\n",
       "      <td>Orlando</td>\n",
       "      <td>2.35</td>\n",
       "      <td>FD</td>\n",
       "      <td>66</td>\n",
       "      <td>7.0</td>\n",
       "      <td>7</td>\n",
       "    </tr>\n",
       "  </tbody>\n",
       "</table>\n",
       "</div>"
      ],
      "text/plain": [
       "               City  Population State  Visitors  city_length  new_city_length\n",
       "State                                                                        \n",
       "PA     Philadelphia        1.50    PA        41         12.0               12\n",
       "MA           Boston        0.60    MA        19          6.0                6\n",
       "MD        Baltimore        0.60    MD        24          9.0                9\n",
       "FD          Orlando        2.35    FD        66          7.0                7"
      ]
     },
     "execution_count": 13,
     "metadata": {},
     "output_type": "execute_result"
    }
   ],
   "source": [
    "df"
   ]
  },
  {
   "cell_type": "code",
   "execution_count": 15,
   "metadata": {
    "collapsed": false
   },
   "outputs": [
    {
     "data": {
      "text/plain": [
       "State\n",
       "PA     True\n",
       "MA    False\n",
       "MD     True\n",
       "FD    False\n",
       "Name: new_city_length, dtype: bool"
      ]
     },
     "execution_count": 15,
     "metadata": {},
     "output_type": "execute_result"
    }
   ],
   "source": [
    "df.new_city_length > 7"
   ]
  },
  {
   "cell_type": "code",
   "execution_count": 17,
   "metadata": {
    "collapsed": false
   },
   "outputs": [
    {
     "data": {
      "text/html": [
       "<div>\n",
       "<table border=\"1\" class=\"dataframe\">\n",
       "  <thead>\n",
       "    <tr style=\"text-align: right;\">\n",
       "      <th></th>\n",
       "      <th>City</th>\n",
       "      <th>Population</th>\n",
       "      <th>State</th>\n",
       "      <th>Visitors</th>\n",
       "      <th>city_length</th>\n",
       "      <th>new_city_length</th>\n",
       "    </tr>\n",
       "    <tr>\n",
       "      <th>State</th>\n",
       "      <th></th>\n",
       "      <th></th>\n",
       "      <th></th>\n",
       "      <th></th>\n",
       "      <th></th>\n",
       "      <th></th>\n",
       "    </tr>\n",
       "  </thead>\n",
       "  <tbody>\n",
       "    <tr>\n",
       "      <th>PA</th>\n",
       "      <td>Philadelphia</td>\n",
       "      <td>1.5</td>\n",
       "      <td>PA</td>\n",
       "      <td>41</td>\n",
       "      <td>12.0</td>\n",
       "      <td>12</td>\n",
       "    </tr>\n",
       "    <tr>\n",
       "      <th>MD</th>\n",
       "      <td>Baltimore</td>\n",
       "      <td>0.6</td>\n",
       "      <td>MD</td>\n",
       "      <td>24</td>\n",
       "      <td>9.0</td>\n",
       "      <td>9</td>\n",
       "    </tr>\n",
       "  </tbody>\n",
       "</table>\n",
       "</div>"
      ],
      "text/plain": [
       "               City  Population State  Visitors  city_length  new_city_length\n",
       "State                                                                        \n",
       "PA     Philadelphia         1.5    PA        41         12.0               12\n",
       "MD        Baltimore         0.6    MD        24          9.0                9"
      ]
     },
     "execution_count": 17,
     "metadata": {},
     "output_type": "execute_result"
    }
   ],
   "source": [
    "greater_than = df.new_city_length > 7\n",
    "df[greater_than]"
   ]
  },
  {
   "cell_type": "code",
   "execution_count": 18,
   "metadata": {
    "collapsed": false
   },
   "outputs": [
    {
     "data": {
      "text/html": [
       "<div>\n",
       "<table border=\"1\" class=\"dataframe\">\n",
       "  <thead>\n",
       "    <tr style=\"text-align: right;\">\n",
       "      <th></th>\n",
       "      <th>City</th>\n",
       "      <th>Population</th>\n",
       "      <th>State</th>\n",
       "      <th>Visitors</th>\n",
       "      <th>city_length</th>\n",
       "      <th>new_city_length</th>\n",
       "    </tr>\n",
       "    <tr>\n",
       "      <th>State</th>\n",
       "      <th></th>\n",
       "      <th></th>\n",
       "      <th></th>\n",
       "      <th></th>\n",
       "      <th></th>\n",
       "      <th></th>\n",
       "    </tr>\n",
       "  </thead>\n",
       "  <tbody>\n",
       "    <tr>\n",
       "      <th>MD</th>\n",
       "      <td>Baltimore</td>\n",
       "      <td>0.6</td>\n",
       "      <td>MD</td>\n",
       "      <td>24</td>\n",
       "      <td>9.0</td>\n",
       "      <td>9</td>\n",
       "    </tr>\n",
       "  </tbody>\n",
       "</table>\n",
       "</div>"
      ],
      "text/plain": [
       "            City  Population State  Visitors  city_length  new_city_length\n",
       "State                                                                     \n",
       "MD     Baltimore         0.6    MD        24          9.0                9"
      ]
     },
     "execution_count": 18,
     "metadata": {},
     "output_type": "execute_result"
    }
   ],
   "source": [
    "df[(df.new_city_length > 7) & (df.new_city_length < 10)]"
   ]
  },
  {
   "cell_type": "code",
   "execution_count": 19,
   "metadata": {
    "collapsed": false
   },
   "outputs": [
    {
     "data": {
      "text/html": [
       "<div>\n",
       "<table border=\"1\" class=\"dataframe\">\n",
       "  <thead>\n",
       "    <tr style=\"text-align: right;\">\n",
       "      <th></th>\n",
       "      <th>City</th>\n",
       "      <th>Population</th>\n",
       "      <th>State</th>\n",
       "      <th>Visitors</th>\n",
       "      <th>city_length</th>\n",
       "      <th>new_city_length</th>\n",
       "    </tr>\n",
       "    <tr>\n",
       "      <th>State</th>\n",
       "      <th></th>\n",
       "      <th></th>\n",
       "      <th></th>\n",
       "      <th></th>\n",
       "      <th></th>\n",
       "      <th></th>\n",
       "    </tr>\n",
       "  </thead>\n",
       "  <tbody>\n",
       "    <tr>\n",
       "      <th>PA</th>\n",
       "      <td>Philadelphia</td>\n",
       "      <td>1.5</td>\n",
       "      <td>PA</td>\n",
       "      <td>41</td>\n",
       "      <td>12.0</td>\n",
       "      <td>12</td>\n",
       "    </tr>\n",
       "    <tr>\n",
       "      <th>MD</th>\n",
       "      <td>Baltimore</td>\n",
       "      <td>0.6</td>\n",
       "      <td>MD</td>\n",
       "      <td>24</td>\n",
       "      <td>9.0</td>\n",
       "      <td>9</td>\n",
       "    </tr>\n",
       "  </tbody>\n",
       "</table>\n",
       "</div>"
      ],
      "text/plain": [
       "               City  Population State  Visitors  city_length  new_city_length\n",
       "State                                                                        \n",
       "PA     Philadelphia         1.5    PA        41         12.0               12\n",
       "MD        Baltimore         0.6    MD        24          9.0                9"
      ]
     },
     "execution_count": 19,
     "metadata": {},
     "output_type": "execute_result"
    }
   ],
   "source": [
    "df[(df.new_city_length == 9) | (df.new_city_length >= 10)]"
   ]
  },
  {
   "cell_type": "code",
   "execution_count": 20,
   "metadata": {
    "collapsed": false
   },
   "outputs": [
    {
     "data": {
      "text/plain": [
       "State\n",
       "FD    Orlando\n",
       "Name: City, dtype: object"
      ]
     },
     "execution_count": 20,
     "metadata": {},
     "output_type": "execute_result"
    }
   ],
   "source": [
    "df.City[df.new_city_length == 7]"
   ]
  },
  {
   "cell_type": "code",
   "execution_count": 21,
   "metadata": {
    "collapsed": false
   },
   "outputs": [
    {
     "name": "stderr",
     "output_type": "stream",
     "text": [
      "/Users/edgarvelazquez/anaconda/lib/python2.7/site-packages/ipykernel/__main__.py:1: SettingWithCopyWarning: \n",
      "A value is trying to be set on a copy of a slice from a DataFrame\n",
      "\n",
      "See the caveats in the documentation: http://pandas.pydata.org/pandas-docs/stable/indexing.html#indexing-view-versus-copy\n",
      "  if __name__ == '__main__':\n"
     ]
    },
    {
     "data": {
      "text/html": [
       "<div>\n",
       "<table border=\"1\" class=\"dataframe\">\n",
       "  <thead>\n",
       "    <tr style=\"text-align: right;\">\n",
       "      <th></th>\n",
       "      <th>City</th>\n",
       "      <th>Population</th>\n",
       "      <th>State</th>\n",
       "      <th>Visitors</th>\n",
       "      <th>city_length</th>\n",
       "      <th>new_city_length</th>\n",
       "    </tr>\n",
       "    <tr>\n",
       "      <th>State</th>\n",
       "      <th></th>\n",
       "      <th></th>\n",
       "      <th></th>\n",
       "      <th></th>\n",
       "      <th></th>\n",
       "      <th></th>\n",
       "    </tr>\n",
       "  </thead>\n",
       "  <tbody>\n",
       "    <tr>\n",
       "      <th>PA</th>\n",
       "      <td>Philadelphia</td>\n",
       "      <td>1.50</td>\n",
       "      <td>PA</td>\n",
       "      <td>41</td>\n",
       "      <td>12.0</td>\n",
       "      <td>12</td>\n",
       "    </tr>\n",
       "    <tr>\n",
       "      <th>MA</th>\n",
       "      <td>Boston</td>\n",
       "      <td>0.60</td>\n",
       "      <td>MA</td>\n",
       "      <td>38</td>\n",
       "      <td>6.0</td>\n",
       "      <td>6</td>\n",
       "    </tr>\n",
       "    <tr>\n",
       "      <th>MD</th>\n",
       "      <td>Baltimore</td>\n",
       "      <td>0.60</td>\n",
       "      <td>MD</td>\n",
       "      <td>24</td>\n",
       "      <td>9.0</td>\n",
       "      <td>9</td>\n",
       "    </tr>\n",
       "    <tr>\n",
       "      <th>FD</th>\n",
       "      <td>Orlando</td>\n",
       "      <td>2.35</td>\n",
       "      <td>FD</td>\n",
       "      <td>66</td>\n",
       "      <td>7.0</td>\n",
       "      <td>7</td>\n",
       "    </tr>\n",
       "  </tbody>\n",
       "</table>\n",
       "</div>"
      ],
      "text/plain": [
       "               City  Population State  Visitors  city_length  new_city_length\n",
       "State                                                                        \n",
       "PA     Philadelphia        1.50    PA        41         12.0               12\n",
       "MA           Boston        0.60    MA        38          6.0                6\n",
       "MD        Baltimore        0.60    MD        24          9.0                9\n",
       "FD          Orlando        2.35    FD        66          7.0                7"
      ]
     },
     "execution_count": 21,
     "metadata": {},
     "output_type": "execute_result"
    }
   ],
   "source": [
    "df.Visitors[df.new_city_length == 6] *= 2\n",
    "df"
   ]
  },
  {
   "cell_type": "code",
   "execution_count": 22,
   "metadata": {
    "collapsed": false
   },
   "outputs": [
    {
     "data": {
      "text/plain": [
       "State\n",
       "PA    0\n",
       "MA    0\n",
       "MD    0\n",
       "FD    0\n",
       "Name: Visitors, dtype: int64"
      ]
     },
     "execution_count": 22,
     "metadata": {},
     "output_type": "execute_result"
    }
   ],
   "source": [
    "def hundreds(n):\n",
    "    return n/100\n",
    "df['Visitors'].apply(hundreds)"
   ]
  },
  {
   "cell_type": "code",
   "execution_count": 23,
   "metadata": {
    "collapsed": false
   },
   "outputs": [
    {
     "data": {
      "text/plain": [
       "State\n",
       "PA    0\n",
       "MA    0\n",
       "MD    0\n",
       "FD    0\n",
       "Name: Visitors, dtype: int64"
      ]
     },
     "execution_count": 23,
     "metadata": {},
     "output_type": "execute_result"
    }
   ],
   "source": [
    "df['Visitors'].apply(lambda n: n/100)"
   ]
  },
  {
   "cell_type": "code",
   "execution_count": 24,
   "metadata": {
    "collapsed": false
   },
   "outputs": [
    {
     "data": {
      "text/html": [
       "<div>\n",
       "<table border=\"1\" class=\"dataframe\">\n",
       "  <thead>\n",
       "    <tr style=\"text-align: right;\">\n",
       "      <th></th>\n",
       "      <th>City</th>\n",
       "      <th>Population</th>\n",
       "      <th>State</th>\n",
       "      <th>Visitors</th>\n",
       "      <th>city_length</th>\n",
       "      <th>new_city_length</th>\n",
       "      <th>Visitors/hundreds</th>\n",
       "    </tr>\n",
       "    <tr>\n",
       "      <th>State</th>\n",
       "      <th></th>\n",
       "      <th></th>\n",
       "      <th></th>\n",
       "      <th></th>\n",
       "      <th></th>\n",
       "      <th></th>\n",
       "      <th></th>\n",
       "    </tr>\n",
       "  </thead>\n",
       "  <tbody>\n",
       "    <tr>\n",
       "      <th>PA</th>\n",
       "      <td>Philadelphia</td>\n",
       "      <td>1.50</td>\n",
       "      <td>PA</td>\n",
       "      <td>41</td>\n",
       "      <td>12.0</td>\n",
       "      <td>12</td>\n",
       "      <td>0</td>\n",
       "    </tr>\n",
       "    <tr>\n",
       "      <th>MA</th>\n",
       "      <td>Boston</td>\n",
       "      <td>0.60</td>\n",
       "      <td>MA</td>\n",
       "      <td>38</td>\n",
       "      <td>6.0</td>\n",
       "      <td>6</td>\n",
       "      <td>0</td>\n",
       "    </tr>\n",
       "    <tr>\n",
       "      <th>MD</th>\n",
       "      <td>Baltimore</td>\n",
       "      <td>0.60</td>\n",
       "      <td>MD</td>\n",
       "      <td>24</td>\n",
       "      <td>9.0</td>\n",
       "      <td>9</td>\n",
       "      <td>0</td>\n",
       "    </tr>\n",
       "    <tr>\n",
       "      <th>FD</th>\n",
       "      <td>Orlando</td>\n",
       "      <td>2.35</td>\n",
       "      <td>FD</td>\n",
       "      <td>66</td>\n",
       "      <td>7.0</td>\n",
       "      <td>7</td>\n",
       "      <td>0</td>\n",
       "    </tr>\n",
       "  </tbody>\n",
       "</table>\n",
       "</div>"
      ],
      "text/plain": [
       "               City  Population State  Visitors  city_length  new_city_length  \\\n",
       "State                                                                           \n",
       "PA     Philadelphia        1.50    PA        41         12.0               12   \n",
       "MA           Boston        0.60    MA        38          6.0                6   \n",
       "MD        Baltimore        0.60    MD        24          9.0                9   \n",
       "FD          Orlando        2.35    FD        66          7.0                7   \n",
       "\n",
       "       Visitors/hundreds  \n",
       "State                     \n",
       "PA                     0  \n",
       "MA                     0  \n",
       "MD                     0  \n",
       "FD                     0  "
      ]
     },
     "execution_count": 24,
     "metadata": {},
     "output_type": "execute_result"
    }
   ],
   "source": [
    "df['Visitors/hundreds'] = df.Visitors.apply(lambda n: n/100)\n",
    "df"
   ]
  },
  {
   "cell_type": "code",
   "execution_count": 27,
   "metadata": {
    "collapsed": false
   },
   "outputs": [
    {
     "data": {
      "text/html": [
       "<div>\n",
       "<table border=\"1\" class=\"dataframe\">\n",
       "  <thead>\n",
       "    <tr style=\"text-align: right;\">\n",
       "      <th></th>\n",
       "      <th>City</th>\n",
       "      <th>Population</th>\n",
       "      <th>State</th>\n",
       "      <th>Visitors</th>\n",
       "      <th>city_length</th>\n",
       "      <th>new_city_length</th>\n",
       "      <th>Visitors/hundreds</th>\n",
       "    </tr>\n",
       "    <tr>\n",
       "      <th>State</th>\n",
       "      <th></th>\n",
       "      <th></th>\n",
       "      <th></th>\n",
       "      <th></th>\n",
       "      <th></th>\n",
       "      <th></th>\n",
       "      <th></th>\n",
       "    </tr>\n",
       "  </thead>\n",
       "  <tbody>\n",
       "    <tr>\n",
       "      <th>PA</th>\n",
       "      <td>PHILADELPHIA</td>\n",
       "      <td>1.50</td>\n",
       "      <td>PA</td>\n",
       "      <td>41</td>\n",
       "      <td>12.0</td>\n",
       "      <td>12</td>\n",
       "      <td>0</td>\n",
       "    </tr>\n",
       "    <tr>\n",
       "      <th>MA</th>\n",
       "      <td>BOSTON</td>\n",
       "      <td>0.60</td>\n",
       "      <td>MA</td>\n",
       "      <td>38</td>\n",
       "      <td>6.0</td>\n",
       "      <td>6</td>\n",
       "      <td>0</td>\n",
       "    </tr>\n",
       "    <tr>\n",
       "      <th>MD</th>\n",
       "      <td>BALTIMORE</td>\n",
       "      <td>0.60</td>\n",
       "      <td>MD</td>\n",
       "      <td>24</td>\n",
       "      <td>9.0</td>\n",
       "      <td>9</td>\n",
       "      <td>0</td>\n",
       "    </tr>\n",
       "    <tr>\n",
       "      <th>FD</th>\n",
       "      <td>ORLANDO</td>\n",
       "      <td>2.35</td>\n",
       "      <td>FD</td>\n",
       "      <td>66</td>\n",
       "      <td>7.0</td>\n",
       "      <td>7</td>\n",
       "      <td>0</td>\n",
       "    </tr>\n",
       "  </tbody>\n",
       "</table>\n",
       "</div>"
      ],
      "text/plain": [
       "               City  Population State  Visitors  city_length  new_city_length  \\\n",
       "State                                                                           \n",
       "PA     PHILADELPHIA        1.50    PA        41         12.0               12   \n",
       "MA           BOSTON        0.60    MA        38          6.0                6   \n",
       "MD        BALTIMORE        0.60    MD        24          9.0                9   \n",
       "FD          ORLANDO        2.35    FD        66          7.0                7   \n",
       "\n",
       "       Visitors/hundreds  \n",
       "State                     \n",
       "PA                     0  \n",
       "MA                     0  \n",
       "MD                     0  \n",
       "FD                     0  "
      ]
     },
     "execution_count": 27,
     "metadata": {},
     "output_type": "execute_result"
    }
   ],
   "source": [
    "df.City = df.City.str.upper()\n",
    "df"
   ]
  },
  {
   "cell_type": "code",
   "execution_count": 28,
   "metadata": {
    "collapsed": false
   },
   "outputs": [
    {
     "data": {
      "text/html": [
       "<div>\n",
       "<table border=\"1\" class=\"dataframe\">\n",
       "  <thead>\n",
       "    <tr style=\"text-align: right;\">\n",
       "      <th></th>\n",
       "      <th>City</th>\n",
       "      <th>Population</th>\n",
       "      <th>State</th>\n",
       "      <th>Visitors</th>\n",
       "      <th>city_length</th>\n",
       "      <th>new_city_length</th>\n",
       "      <th>Visitors/hundreds</th>\n",
       "      <th>Total_population</th>\n",
       "    </tr>\n",
       "    <tr>\n",
       "      <th>State</th>\n",
       "      <th></th>\n",
       "      <th></th>\n",
       "      <th></th>\n",
       "      <th></th>\n",
       "      <th></th>\n",
       "      <th></th>\n",
       "      <th></th>\n",
       "      <th></th>\n",
       "    </tr>\n",
       "  </thead>\n",
       "  <tbody>\n",
       "    <tr>\n",
       "      <th>PA</th>\n",
       "      <td>PHILADELPHIA</td>\n",
       "      <td>1.50</td>\n",
       "      <td>PA</td>\n",
       "      <td>41</td>\n",
       "      <td>12.0</td>\n",
       "      <td>12</td>\n",
       "      <td>0</td>\n",
       "      <td>42.50</td>\n",
       "    </tr>\n",
       "    <tr>\n",
       "      <th>MA</th>\n",
       "      <td>BOSTON</td>\n",
       "      <td>0.60</td>\n",
       "      <td>MA</td>\n",
       "      <td>38</td>\n",
       "      <td>6.0</td>\n",
       "      <td>6</td>\n",
       "      <td>0</td>\n",
       "      <td>38.60</td>\n",
       "    </tr>\n",
       "    <tr>\n",
       "      <th>MD</th>\n",
       "      <td>BALTIMORE</td>\n",
       "      <td>0.60</td>\n",
       "      <td>MD</td>\n",
       "      <td>24</td>\n",
       "      <td>9.0</td>\n",
       "      <td>9</td>\n",
       "      <td>0</td>\n",
       "      <td>24.60</td>\n",
       "    </tr>\n",
       "    <tr>\n",
       "      <th>FD</th>\n",
       "      <td>ORLANDO</td>\n",
       "      <td>2.35</td>\n",
       "      <td>FD</td>\n",
       "      <td>66</td>\n",
       "      <td>7.0</td>\n",
       "      <td>7</td>\n",
       "      <td>0</td>\n",
       "      <td>68.35</td>\n",
       "    </tr>\n",
       "  </tbody>\n",
       "</table>\n",
       "</div>"
      ],
      "text/plain": [
       "               City  Population State  Visitors  city_length  new_city_length  \\\n",
       "State                                                                           \n",
       "PA     PHILADELPHIA        1.50    PA        41         12.0               12   \n",
       "MA           BOSTON        0.60    MA        38          6.0                6   \n",
       "MD        BALTIMORE        0.60    MD        24          9.0                9   \n",
       "FD          ORLANDO        2.35    FD        66          7.0                7   \n",
       "\n",
       "       Visitors/hundreds  Total_population  \n",
       "State                                       \n",
       "PA                     0             42.50  \n",
       "MA                     0             38.60  \n",
       "MD                     0             24.60  \n",
       "FD                     0             68.35  "
      ]
     },
     "execution_count": 28,
     "metadata": {},
     "output_type": "execute_result"
    }
   ],
   "source": [
    "df[\"Total_population\"] = df.Population + df.Visitors\n",
    "df"
   ]
  },
  {
   "cell_type": "code",
   "execution_count": null,
   "metadata": {
    "collapsed": true
   },
   "outputs": [],
   "source": []
  }
 ],
 "metadata": {
  "kernelspec": {
   "display_name": "Python 2",
   "language": "python",
   "name": "python2"
  },
  "language_info": {
   "codemirror_mode": {
    "name": "ipython",
    "version": 2
   },
   "file_extension": ".py",
   "mimetype": "text/x-python",
   "name": "python",
   "nbconvert_exporter": "python",
   "pygments_lexer": "ipython2",
   "version": "2.7.13"
  }
 },
 "nbformat": 4,
 "nbformat_minor": 2
}
