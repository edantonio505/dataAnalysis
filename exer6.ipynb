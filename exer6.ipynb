{
 "cells": [
  {
   "cell_type": "code",
   "execution_count": 1,
   "metadata": {},
   "outputs": [],
   "source": [
    "import pandas as pd\n",
    "import pandas_datareader.data as web\n",
    "from datetime import date\n",
    "import matplotlib.pyplot as plt\n",
    "import datetime\n",
    "%matplotlib inline"
   ]
  },
  {
   "cell_type": "code",
   "execution_count": 2,
   "metadata": {},
   "outputs": [],
   "source": [
    "file_url = 'http://www.sectorspdr.com/sectorspdr/IDCO.Client.Spdrs.Holdings/Export/ExportCsv?symbol='\n",
    "string = \"XLF\"\n",
    "etf = file_url + string"
   ]
  },
  {
   "cell_type": "code",
   "execution_count": 3,
   "metadata": {},
   "outputs": [
    {
     "data": {
      "text/html": [
       "<div>\n",
       "<style>\n",
       "    .dataframe thead tr:only-child th {\n",
       "        text-align: right;\n",
       "    }\n",
       "\n",
       "    .dataframe thead th {\n",
       "        text-align: left;\n",
       "    }\n",
       "\n",
       "    .dataframe tbody tr th {\n",
       "        vertical-align: top;\n",
       "    }\n",
       "</style>\n",
       "<table border=\"1\" class=\"dataframe\">\n",
       "  <thead>\n",
       "    <tr style=\"text-align: right;\">\n",
       "      <th></th>\n",
       "      <th>Symbol</th>\n",
       "      <th>Company Name</th>\n",
       "      <th>Index Weight</th>\n",
       "      <th>Last</th>\n",
       "      <th>Change</th>\n",
       "      <th>%Change</th>\n",
       "      <th>Volume</th>\n",
       "      <th>52 Week Range</th>\n",
       "      <th>Unnamed: 8</th>\n",
       "    </tr>\n",
       "  </thead>\n",
       "  <tbody>\n",
       "    <tr>\n",
       "      <th>0</th>\n",
       "      <td>BRK.b</td>\n",
       "      <td>Berkshire Hathaway B</td>\n",
       "      <td>10.90%</td>\n",
       "      <td>169.62</td>\n",
       "      <td>-0.93</td>\n",
       "      <td>-0.55%</td>\n",
       "      <td>2.37 M</td>\n",
       "      <td>136.65 - 177.86</td>\n",
       "      <td>NaN</td>\n",
       "    </tr>\n",
       "    <tr>\n",
       "      <th>1</th>\n",
       "      <td>JPM</td>\n",
       "      <td>JP Morgan Chase &amp; Co</td>\n",
       "      <td>10.47%</td>\n",
       "      <td>87.12</td>\n",
       "      <td>-0.40</td>\n",
       "      <td>-0.46%</td>\n",
       "      <td>10.00 M</td>\n",
       "      <td>57.05 - 93.98</td>\n",
       "      <td>NaN</td>\n",
       "    </tr>\n",
       "    <tr>\n",
       "      <th>2</th>\n",
       "      <td>WFC</td>\n",
       "      <td>Wells Fargo &amp; Co</td>\n",
       "      <td>8.06%</td>\n",
       "      <td>52.98</td>\n",
       "      <td>-0.48</td>\n",
       "      <td>-0.90%</td>\n",
       "      <td>12.65 M</td>\n",
       "      <td>43.55 - 59.99</td>\n",
       "      <td>NaN</td>\n",
       "    </tr>\n",
       "    <tr>\n",
       "      <th>3</th>\n",
       "      <td>BAC</td>\n",
       "      <td>Bank of America Corp</td>\n",
       "      <td>7.78%</td>\n",
       "      <td>23.13</td>\n",
       "      <td>-0.36</td>\n",
       "      <td>-1.53%</td>\n",
       "      <td>72.33 M</td>\n",
       "      <td>12.05 - 25.80</td>\n",
       "      <td>NaN</td>\n",
       "    </tr>\n",
       "    <tr>\n",
       "      <th>4</th>\n",
       "      <td>C</td>\n",
       "      <td>Citigroup Inc</td>\n",
       "      <td>5.94%</td>\n",
       "      <td>63.83</td>\n",
       "      <td>-0.08</td>\n",
       "      <td>-0.13%</td>\n",
       "      <td>13.53 M</td>\n",
       "      <td>38.31 - 65.40</td>\n",
       "      <td>NaN</td>\n",
       "    </tr>\n",
       "  </tbody>\n",
       "</table>\n",
       "</div>"
      ],
      "text/plain": [
       "  Symbol          Company Name Index Weight    Last  Change %Change   Volume  \\\n",
       "0  BRK.b  Berkshire Hathaway B       10.90%  169.62   -0.93  -0.55%   2.37 M   \n",
       "1    JPM  JP Morgan Chase & Co       10.47%   87.12   -0.40  -0.46%  10.00 M   \n",
       "2    WFC      Wells Fargo & Co        8.06%   52.98   -0.48  -0.90%  12.65 M   \n",
       "3    BAC  Bank of America Corp        7.78%   23.13   -0.36  -1.53%  72.33 M   \n",
       "4      C         Citigroup Inc        5.94%   63.83   -0.08  -0.13%  13.53 M   \n",
       "\n",
       "     52 Week Range  Unnamed: 8  \n",
       "0  136.65 - 177.86         NaN  \n",
       "1    57.05 - 93.98         NaN  \n",
       "2    43.55 - 59.99         NaN  \n",
       "3    12.05 - 25.80         NaN  \n",
       "4    38.31 - 65.40         NaN  "
      ]
     },
     "execution_count": 3,
     "metadata": {},
     "output_type": "execute_result"
    }
   ],
   "source": [
    "new_file = pd.read_csv(etf, skiprows=1)\n",
    "new_file.head()"
   ]
  },
  {
   "cell_type": "code",
   "execution_count": 4,
   "metadata": {},
   "outputs": [
    {
     "data": {
      "text/html": [
       "<div>\n",
       "<style>\n",
       "    .dataframe thead tr:only-child th {\n",
       "        text-align: right;\n",
       "    }\n",
       "\n",
       "    .dataframe thead th {\n",
       "        text-align: left;\n",
       "    }\n",
       "\n",
       "    .dataframe tbody tr th {\n",
       "        vertical-align: top;\n",
       "    }\n",
       "</style>\n",
       "<table border=\"1\" class=\"dataframe\">\n",
       "  <thead>\n",
       "    <tr style=\"text-align: right;\">\n",
       "      <th></th>\n",
       "      <th>Symbol</th>\n",
       "      <th>Company Name</th>\n",
       "      <th>Index Weight</th>\n",
       "      <th>Last</th>\n",
       "      <th>Change</th>\n",
       "      <th>%Change</th>\n",
       "      <th>Volume</th>\n",
       "      <th>52 Week Range</th>\n",
       "    </tr>\n",
       "  </thead>\n",
       "  <tbody>\n",
       "    <tr>\n",
       "      <th>0</th>\n",
       "      <td>BRK.b</td>\n",
       "      <td>Berkshire Hathaway B</td>\n",
       "      <td>10.90%</td>\n",
       "      <td>169.62</td>\n",
       "      <td>-0.93</td>\n",
       "      <td>-0.55%</td>\n",
       "      <td>2.37 M</td>\n",
       "      <td>136.65 - 177.86</td>\n",
       "    </tr>\n",
       "    <tr>\n",
       "      <th>1</th>\n",
       "      <td>JPM</td>\n",
       "      <td>JP Morgan Chase &amp; Co</td>\n",
       "      <td>10.47%</td>\n",
       "      <td>87.12</td>\n",
       "      <td>-0.40</td>\n",
       "      <td>-0.46%</td>\n",
       "      <td>10.00 M</td>\n",
       "      <td>57.05 - 93.98</td>\n",
       "    </tr>\n",
       "    <tr>\n",
       "      <th>2</th>\n",
       "      <td>WFC</td>\n",
       "      <td>Wells Fargo &amp; Co</td>\n",
       "      <td>8.06%</td>\n",
       "      <td>52.98</td>\n",
       "      <td>-0.48</td>\n",
       "      <td>-0.90%</td>\n",
       "      <td>12.65 M</td>\n",
       "      <td>43.55 - 59.99</td>\n",
       "    </tr>\n",
       "    <tr>\n",
       "      <th>3</th>\n",
       "      <td>BAC</td>\n",
       "      <td>Bank of America Corp</td>\n",
       "      <td>7.78%</td>\n",
       "      <td>23.13</td>\n",
       "      <td>-0.36</td>\n",
       "      <td>-1.53%</td>\n",
       "      <td>72.33 M</td>\n",
       "      <td>12.05 - 25.80</td>\n",
       "    </tr>\n",
       "    <tr>\n",
       "      <th>4</th>\n",
       "      <td>C</td>\n",
       "      <td>Citigroup Inc</td>\n",
       "      <td>5.94%</td>\n",
       "      <td>63.83</td>\n",
       "      <td>-0.08</td>\n",
       "      <td>-0.13%</td>\n",
       "      <td>13.53 M</td>\n",
       "      <td>38.31 - 65.40</td>\n",
       "    </tr>\n",
       "  </tbody>\n",
       "</table>\n",
       "</div>"
      ],
      "text/plain": [
       "  Symbol          Company Name Index Weight    Last  Change %Change   Volume  \\\n",
       "0  BRK.b  Berkshire Hathaway B       10.90%  169.62   -0.93  -0.55%   2.37 M   \n",
       "1    JPM  JP Morgan Chase & Co       10.47%   87.12   -0.40  -0.46%  10.00 M   \n",
       "2    WFC      Wells Fargo & Co        8.06%   52.98   -0.48  -0.90%  12.65 M   \n",
       "3    BAC  Bank of America Corp        7.78%   23.13   -0.36  -1.53%  72.33 M   \n",
       "4      C         Citigroup Inc        5.94%   63.83   -0.08  -0.13%  13.53 M   \n",
       "\n",
       "     52 Week Range  \n",
       "0  136.65 - 177.86  \n",
       "1    57.05 - 93.98  \n",
       "2    43.55 - 59.99  \n",
       "3    12.05 - 25.80  \n",
       "4    38.31 - 65.40  "
      ]
     },
     "execution_count": 4,
     "metadata": {},
     "output_type": "execute_result"
    }
   ],
   "source": [
    "new_file = new_file.drop('Unnamed: 8', axis=1)\n",
    "new_file.head()"
   ]
  },
  {
   "cell_type": "code",
   "execution_count": 5,
   "metadata": {},
   "outputs": [
    {
     "data": {
      "text/html": [
       "<div>\n",
       "<style>\n",
       "    .dataframe thead tr:only-child th {\n",
       "        text-align: right;\n",
       "    }\n",
       "\n",
       "    .dataframe thead th {\n",
       "        text-align: left;\n",
       "    }\n",
       "\n",
       "    .dataframe tbody tr th {\n",
       "        vertical-align: top;\n",
       "    }\n",
       "</style>\n",
       "<table border=\"1\" class=\"dataframe\">\n",
       "  <thead>\n",
       "    <tr style=\"text-align: right;\">\n",
       "      <th></th>\n",
       "      <th>Company Name</th>\n",
       "      <th>Index Weight</th>\n",
       "      <th>Last</th>\n",
       "      <th>Change</th>\n",
       "      <th>%Change</th>\n",
       "      <th>Volume</th>\n",
       "      <th>52 Week Range</th>\n",
       "    </tr>\n",
       "    <tr>\n",
       "      <th>Symbol</th>\n",
       "      <th></th>\n",
       "      <th></th>\n",
       "      <th></th>\n",
       "      <th></th>\n",
       "      <th></th>\n",
       "      <th></th>\n",
       "      <th></th>\n",
       "    </tr>\n",
       "  </thead>\n",
       "  <tbody>\n",
       "    <tr>\n",
       "      <th>BRK.b</th>\n",
       "      <td>Berkshire Hathaway B</td>\n",
       "      <td>10.90%</td>\n",
       "      <td>169.62</td>\n",
       "      <td>-0.93</td>\n",
       "      <td>-0.55%</td>\n",
       "      <td>2.37 M</td>\n",
       "      <td>136.65 - 177.86</td>\n",
       "    </tr>\n",
       "    <tr>\n",
       "      <th>JPM</th>\n",
       "      <td>JP Morgan Chase &amp; Co</td>\n",
       "      <td>10.47%</td>\n",
       "      <td>87.12</td>\n",
       "      <td>-0.40</td>\n",
       "      <td>-0.46%</td>\n",
       "      <td>10.00 M</td>\n",
       "      <td>57.05 - 93.98</td>\n",
       "    </tr>\n",
       "    <tr>\n",
       "      <th>WFC</th>\n",
       "      <td>Wells Fargo &amp; Co</td>\n",
       "      <td>8.06%</td>\n",
       "      <td>52.98</td>\n",
       "      <td>-0.48</td>\n",
       "      <td>-0.90%</td>\n",
       "      <td>12.65 M</td>\n",
       "      <td>43.55 - 59.99</td>\n",
       "    </tr>\n",
       "    <tr>\n",
       "      <th>BAC</th>\n",
       "      <td>Bank of America Corp</td>\n",
       "      <td>7.78%</td>\n",
       "      <td>23.13</td>\n",
       "      <td>-0.36</td>\n",
       "      <td>-1.53%</td>\n",
       "      <td>72.33 M</td>\n",
       "      <td>12.05 - 25.80</td>\n",
       "    </tr>\n",
       "    <tr>\n",
       "      <th>C</th>\n",
       "      <td>Citigroup Inc</td>\n",
       "      <td>5.94%</td>\n",
       "      <td>63.83</td>\n",
       "      <td>-0.08</td>\n",
       "      <td>-0.13%</td>\n",
       "      <td>13.53 M</td>\n",
       "      <td>38.31 - 65.40</td>\n",
       "    </tr>\n",
       "  </tbody>\n",
       "</table>\n",
       "</div>"
      ],
      "text/plain": [
       "                Company Name Index Weight    Last  Change %Change   Volume  \\\n",
       "Symbol                                                                       \n",
       "BRK.b   Berkshire Hathaway B       10.90%  169.62   -0.93  -0.55%   2.37 M   \n",
       "JPM     JP Morgan Chase & Co       10.47%   87.12   -0.40  -0.46%  10.00 M   \n",
       "WFC         Wells Fargo & Co        8.06%   52.98   -0.48  -0.90%  12.65 M   \n",
       "BAC     Bank of America Corp        7.78%   23.13   -0.36  -1.53%  72.33 M   \n",
       "C              Citigroup Inc        5.94%   63.83   -0.08  -0.13%  13.53 M   \n",
       "\n",
       "          52 Week Range  \n",
       "Symbol                   \n",
       "BRK.b   136.65 - 177.86  \n",
       "JPM       57.05 - 93.98  \n",
       "WFC       43.55 - 59.99  \n",
       "BAC       12.05 - 25.80  \n",
       "C         38.31 - 65.40  "
      ]
     },
     "execution_count": 5,
     "metadata": {},
     "output_type": "execute_result"
    }
   ],
   "source": [
    "new_file.index = new_file.Symbol\n",
    "new_file = new_file.drop('Symbol', axis=1)\n",
    "new_file.head()"
   ]
  },
  {
   "cell_type": "code",
   "execution_count": 6,
   "metadata": {},
   "outputs": [
    {
     "data": {
      "text/plain": [
       "Index(['Company Name', 'Index Weight', 'Last', 'Change', '%Change', 'Volume',\n",
       "       '52 Week Range'],\n",
       "      dtype='object')"
      ]
     },
     "execution_count": 6,
     "metadata": {},
     "output_type": "execute_result"
    }
   ],
   "source": [
    "new_file.columns"
   ]
  },
  {
   "cell_type": "code",
   "execution_count": 7,
   "metadata": {},
   "outputs": [
    {
     "name": "stdout",
     "output_type": "stream",
     "text": [
      "<class 'pandas.core.frame.DataFrame'>\n",
      "Index: 66 entries, BRK.b to NAVI\n",
      "Data columns (total 7 columns):\n",
      "Company Name     66 non-null object\n",
      "Index Weight     66 non-null object\n",
      "Last             66 non-null float64\n",
      "Change           66 non-null float64\n",
      "%Change          66 non-null object\n",
      "Volume           66 non-null object\n",
      "52 Week Range    66 non-null object\n",
      "dtypes: float64(2), object(5)\n",
      "memory usage: 4.1+ KB\n"
     ]
    }
   ],
   "source": [
    "new_file.info()"
   ]
  },
  {
   "cell_type": "code",
   "execution_count": 8,
   "metadata": {},
   "outputs": [
    {
     "data": {
      "text/plain": [
       "-0.17    4\n",
       "-0.30    3\n",
       "-0.34    2\n",
       "-0.27    2\n",
       "-0.25    2\n",
       "-0.76    2\n",
       "-0.74    2\n",
       "-0.48    2\n",
       "-0.36    2\n",
       "-0.31    2\n",
       "Name: Change, dtype: int64"
      ]
     },
     "execution_count": 8,
     "metadata": {},
     "output_type": "execute_result"
    }
   ],
   "source": [
    "new_file.Change.value_counts().head(10)"
   ]
  },
  {
   "cell_type": "code",
   "execution_count": 9,
   "metadata": {},
   "outputs": [
    {
     "data": {
      "text/html": [
       "<div>\n",
       "<style>\n",
       "    .dataframe thead tr:only-child th {\n",
       "        text-align: right;\n",
       "    }\n",
       "\n",
       "    .dataframe thead th {\n",
       "        text-align: left;\n",
       "    }\n",
       "\n",
       "    .dataframe tbody tr th {\n",
       "        vertical-align: top;\n",
       "    }\n",
       "</style>\n",
       "<table border=\"1\" class=\"dataframe\">\n",
       "  <thead>\n",
       "    <tr style=\"text-align: right;\">\n",
       "      <th></th>\n",
       "      <th>Last</th>\n",
       "      <th>Change</th>\n",
       "    </tr>\n",
       "  </thead>\n",
       "  <tbody>\n",
       "    <tr>\n",
       "      <th>count</th>\n",
       "      <td>66.000000</td>\n",
       "      <td>66.000000</td>\n",
       "    </tr>\n",
       "    <tr>\n",
       "      <th>mean</th>\n",
       "      <td>82.553485</td>\n",
       "      <td>-0.709242</td>\n",
       "    </tr>\n",
       "    <tr>\n",
       "      <th>std</th>\n",
       "      <td>64.863527</td>\n",
       "      <td>0.899099</td>\n",
       "    </tr>\n",
       "    <tr>\n",
       "      <th>min</th>\n",
       "      <td>13.060000</td>\n",
       "      <td>-3.950000</td>\n",
       "    </tr>\n",
       "    <tr>\n",
       "      <th>25%</th>\n",
       "      <td>44.312500</td>\n",
       "      <td>-0.845000</td>\n",
       "    </tr>\n",
       "    <tr>\n",
       "      <th>50%</th>\n",
       "      <td>65.145000</td>\n",
       "      <td>-0.415000</td>\n",
       "    </tr>\n",
       "    <tr>\n",
       "      <th>75%</th>\n",
       "      <td>100.285000</td>\n",
       "      <td>-0.250000</td>\n",
       "    </tr>\n",
       "    <tr>\n",
       "      <th>max</th>\n",
       "      <td>420.740000</td>\n",
       "      <td>1.720000</td>\n",
       "    </tr>\n",
       "  </tbody>\n",
       "</table>\n",
       "</div>"
      ],
      "text/plain": [
       "             Last     Change\n",
       "count   66.000000  66.000000\n",
       "mean    82.553485  -0.709242\n",
       "std     64.863527   0.899099\n",
       "min     13.060000  -3.950000\n",
       "25%     44.312500  -0.845000\n",
       "50%     65.145000  -0.415000\n",
       "75%    100.285000  -0.250000\n",
       "max    420.740000   1.720000"
      ]
     },
     "execution_count": 9,
     "metadata": {},
     "output_type": "execute_result"
    }
   ],
   "source": [
    "new_file.describe()"
   ]
  },
  {
   "cell_type": "code",
   "execution_count": 10,
   "metadata": {},
   "outputs": [
    {
     "data": {
      "text/plain": [
       "<matplotlib.axes._subplots.AxesSubplot at 0x111c3ebe0>"
      ]
     },
     "execution_count": 10,
     "metadata": {},
     "output_type": "execute_result"
    },
    {
     "data": {
      "image/png": "[encoded data removed]",
      "text/plain": [
       "<matplotlib.figure.Figure at 0x111c3ec50>"
      ]
     },
     "metadata": {},
     "output_type": "display_data"
    }
   ],
   "source": [
    "new_file.Change.plot('hist')"
   ]
  },
  {
   "cell_type": "code",
   "execution_count": 11,
   "metadata": {},
   "outputs": [
    {
     "data": {
      "text/html": [
       "<div>\n",
       "<style>\n",
       "    .dataframe thead tr:only-child th {\n",
       "        text-align: right;\n",
       "    }\n",
       "\n",
       "    .dataframe thead th {\n",
       "        text-align: left;\n",
       "    }\n",
       "\n",
       "    .dataframe tbody tr th {\n",
       "        vertical-align: top;\n",
       "    }\n",
       "</style>\n",
       "<table border=\"1\" class=\"dataframe\">\n",
       "  <thead>\n",
       "    <tr style=\"text-align: right;\">\n",
       "      <th></th>\n",
       "      <th>Company Name</th>\n",
       "      <th>Index Weight</th>\n",
       "      <th>Last</th>\n",
       "      <th>Change</th>\n",
       "      <th>%Change</th>\n",
       "      <th>Volume</th>\n",
       "      <th>52 Week Range</th>\n",
       "    </tr>\n",
       "    <tr>\n",
       "      <th>Symbol</th>\n",
       "      <th></th>\n",
       "      <th></th>\n",
       "      <th></th>\n",
       "      <th></th>\n",
       "      <th></th>\n",
       "      <th></th>\n",
       "      <th></th>\n",
       "    </tr>\n",
       "  </thead>\n",
       "  <tbody>\n",
       "    <tr>\n",
       "      <th>RE</th>\n",
       "      <td>Everest Re Group Ltd</td>\n",
       "      <td>0.36%</td>\n",
       "      <td>256.58</td>\n",
       "      <td>1.72</td>\n",
       "      <td>+0.67%</td>\n",
       "      <td>369.87 K</td>\n",
       "      <td>169.19 - 259.94</td>\n",
       "    </tr>\n",
       "  </tbody>\n",
       "</table>\n",
       "</div>"
      ],
      "text/plain": [
       "                Company Name Index Weight    Last  Change %Change    Volume  \\\n",
       "Symbol                                                                        \n",
       "RE      Everest Re Group Ltd        0.36%  256.58    1.72  +0.67%  369.87 K   \n",
       "\n",
       "          52 Week Range  \n",
       "Symbol                   \n",
       "RE      169.19 - 259.94  "
      ]
     },
     "execution_count": 11,
     "metadata": {},
     "output_type": "execute_result"
    }
   ],
   "source": [
    "stat = new_file[new_file.Change > 0.6]\n",
    "stat.head()"
   ]
  },
  {
   "cell_type": "code",
   "execution_count": 12,
   "metadata": {},
   "outputs": [
    {
     "data": {
      "text/plain": [
       "(array([1]), <a list of 1 Text xticklabel objects>)"
      ]
     },
     "execution_count": 12,
     "metadata": {},
     "output_type": "execute_result"
    },
    {
     "data": {
      "image/png": "[encoded data removed]",
      "text/plain": [
       "<matplotlib.figure.Figure at 0x10883fb00>"
      ]
     },
     "metadata": {},
     "output_type": "display_data"
    }
   ],
   "source": [
    "stat.boxplot(column='Change', by='Company Name')\n",
    "plt.xticks()"
   ]
  },
  {
   "cell_type": "code",
   "execution_count": 13,
   "metadata": {},
   "outputs": [
    {
     "data": {
      "text/html": [
       "<div>\n",
       "<style>\n",
       "    .dataframe thead tr:only-child th {\n",
       "        text-align: right;\n",
       "    }\n",
       "\n",
       "    .dataframe thead th {\n",
       "        text-align: left;\n",
       "    }\n",
       "\n",
       "    .dataframe tbody tr th {\n",
       "        vertical-align: top;\n",
       "    }\n",
       "</style>\n",
       "<table border=\"1\" class=\"dataframe\">\n",
       "  <thead>\n",
       "    <tr style=\"text-align: right;\">\n",
       "      <th></th>\n",
       "      <th>Company Name</th>\n",
       "      <th>Index Weight</th>\n",
       "      <th>Last</th>\n",
       "      <th>Change</th>\n",
       "      <th>%Change</th>\n",
       "      <th>Volume</th>\n",
       "      <th>52 Week Range</th>\n",
       "    </tr>\n",
       "    <tr>\n",
       "      <th>Symbol</th>\n",
       "      <th></th>\n",
       "      <th></th>\n",
       "      <th></th>\n",
       "      <th></th>\n",
       "      <th></th>\n",
       "      <th></th>\n",
       "      <th></th>\n",
       "    </tr>\n",
       "  </thead>\n",
       "  <tbody>\n",
       "    <tr>\n",
       "      <th>BRK.b</th>\n",
       "      <td>Berkshire Hathaway B</td>\n",
       "      <td>10.90</td>\n",
       "      <td>169.62</td>\n",
       "      <td>-0.93</td>\n",
       "      <td>-0.55%</td>\n",
       "      <td>2.37 M</td>\n",
       "      <td>136.65 - 177.86</td>\n",
       "    </tr>\n",
       "    <tr>\n",
       "      <th>JPM</th>\n",
       "      <td>JP Morgan Chase &amp; Co</td>\n",
       "      <td>10.47</td>\n",
       "      <td>87.12</td>\n",
       "      <td>-0.40</td>\n",
       "      <td>-0.46%</td>\n",
       "      <td>10.00 M</td>\n",
       "      <td>57.05 - 93.98</td>\n",
       "    </tr>\n",
       "    <tr>\n",
       "      <th>WFC</th>\n",
       "      <td>Wells Fargo &amp; Co</td>\n",
       "      <td>8.06</td>\n",
       "      <td>52.98</td>\n",
       "      <td>-0.48</td>\n",
       "      <td>-0.90%</td>\n",
       "      <td>12.65 M</td>\n",
       "      <td>43.55 - 59.99</td>\n",
       "    </tr>\n",
       "    <tr>\n",
       "      <th>BAC</th>\n",
       "      <td>Bank of America Corp</td>\n",
       "      <td>7.78</td>\n",
       "      <td>23.13</td>\n",
       "      <td>-0.36</td>\n",
       "      <td>-1.53%</td>\n",
       "      <td>72.33 M</td>\n",
       "      <td>12.05 - 25.80</td>\n",
       "    </tr>\n",
       "    <tr>\n",
       "      <th>C</th>\n",
       "      <td>Citigroup Inc</td>\n",
       "      <td>5.94</td>\n",
       "      <td>63.83</td>\n",
       "      <td>-0.08</td>\n",
       "      <td>-0.13%</td>\n",
       "      <td>13.53 M</td>\n",
       "      <td>38.31 - 65.40</td>\n",
       "    </tr>\n",
       "  </tbody>\n",
       "</table>\n",
       "</div>"
      ],
      "text/plain": [
       "                Company Name  Index Weight    Last  Change %Change   Volume  \\\n",
       "Symbol                                                                        \n",
       "BRK.b   Berkshire Hathaway B         10.90  169.62   -0.93  -0.55%   2.37 M   \n",
       "JPM     JP Morgan Chase & Co         10.47   87.12   -0.40  -0.46%  10.00 M   \n",
       "WFC         Wells Fargo & Co          8.06   52.98   -0.48  -0.90%  12.65 M   \n",
       "BAC     Bank of America Corp          7.78   23.13   -0.36  -1.53%  72.33 M   \n",
       "C              Citigroup Inc          5.94   63.83   -0.08  -0.13%  13.53 M   \n",
       "\n",
       "          52 Week Range  \n",
       "Symbol                   \n",
       "BRK.b   136.65 - 177.86  \n",
       "JPM       57.05 - 93.98  \n",
       "WFC       43.55 - 59.99  \n",
       "BAC       12.05 - 25.80  \n",
       "C         38.31 - 65.40  "
      ]
     },
     "execution_count": 13,
     "metadata": {},
     "output_type": "execute_result"
    }
   ],
   "source": [
    "new_file['Index Weight'] = new_file['Index Weight'].str.replace(\"%\", \" \").apply(pd.to_numeric)\n",
    "new_file.head()"
   ]
  },
  {
   "cell_type": "code",
   "execution_count": null,
   "metadata": {
    "collapsed": true
   },
   "outputs": [],
   "source": []
  }
 ],
 "metadata": {
  "kernelspec": {
   "display_name": "Python 3",
   "language": "python",
   "name": "python3"
  },
  "language_info": {
   "codemirror_mode": {
    "name": "ipython",
    "version": 3
   },
   "file_extension": ".py",
   "mimetype": "text/x-python",
   "name": "python",
   "nbconvert_exporter": "python",
   "pygments_lexer": "ipython3",
   "version": "3.6.1"
  }
 },
 "nbformat": 4,
 "nbformat_minor": 2
}
